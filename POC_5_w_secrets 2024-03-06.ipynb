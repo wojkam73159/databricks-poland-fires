{
 "cells": [
  {
   "cell_type": "code",
   "execution_count": 0,
   "metadata": {
    "application/vnd.databricks.v1+cell": {
     "cellMetadata": {
      "byteLimit": 2048000,
      "rowLimit": 10000
     },
     "inputWidgets": {},
     "nuid": "4d2895d2-7373-48dc-be8e-7a5d82a5ccec",
     "showTitle": false,
     "title": ""
    }
   },
   "outputs": [
    {
     "output_type": "stream",
     "name": "stdout",
     "output_type": "stream",
     "text": [
      "Wrote 133 bytes.\n"
     ]
    },
    {
     "output_type": "display_data",
     "data": {
      "text/html": [
       "<style scoped>\n",
       "  .table-result-container {\n",
       "    max-height: 300px;\n",
       "    overflow: auto;\n",
       "  }\n",
       "  table, th, td {\n",
       "    border: 1px solid black;\n",
       "    border-collapse: collapse;\n",
       "  }\n",
       "  th, td {\n",
       "    padding: 5px;\n",
       "  }\n",
       "  th {\n",
       "    text-align: left;\n",
       "  }\n",
       "</style><div class='table-result-container'><table class='table-result'><thead style='background-color: white'><tr><th>country_id</th><th>latitude</th><th>longitude</th><th>bright_ti4</th><th>scan</th><th>track</th><th>acq_date</th><th>acq_time</th><th>satellite</th><th>instrument</th><th>confidence</th><th>version</th><th>bright_ti5</th><th>frp</th><th>daynight</th></tr></thead><tbody></tbody></table></div>"
      ]
     },
     "metadata": {
      "application/vnd.databricks.v1+output": {
       "addedWidgets": {},
       "aggData": [],
       "aggError": "",
       "aggOverflow": false,
       "aggSchema": [],
       "aggSeriesLimitReached": false,
       "aggType": "",
       "arguments": {},
       "columnCustomDisplayInfos": {},
       "data": [],
       "datasetInfos": [],
       "dbfsResultPath": null,
       "isJsonSchema": true,
       "metadata": {},
       "overflow": false,
       "plotOptions": {
        "customPlotOptions": {},
        "displayType": "table",
        "pivotAggregation": null,
        "pivotColumns": null,
        "xColumns": null,
        "yColumns": null
       },
       "removedWidgets": [],
       "schema": [
        {
         "metadata": "{}",
         "name": "country_id",
         "type": "\"string\""
        },
        {
         "metadata": "{}",
         "name": "latitude",
         "type": "\"string\""
        },
        {
         "metadata": "{}",
         "name": "longitude",
         "type": "\"string\""
        },
        {
         "metadata": "{}",
         "name": "bright_ti4",
         "type": "\"string\""
        },
        {
         "metadata": "{}",
         "name": "scan",
         "type": "\"string\""
        },
        {
         "metadata": "{}",
         "name": "track",
         "type": "\"string\""
        },
        {
         "metadata": "{}",
         "name": "acq_date",
         "type": "\"string\""
        },
        {
         "metadata": "{}",
         "name": "acq_time",
         "type": "\"string\""
        },
        {
         "metadata": "{}",
         "name": "satellite",
         "type": "\"string\""
        },
        {
         "metadata": "{}",
         "name": "instrument",
         "type": "\"string\""
        },
        {
         "metadata": "{}",
         "name": "confidence",
         "type": "\"string\""
        },
        {
         "metadata": "{}",
         "name": "version",
         "type": "\"string\""
        },
        {
         "metadata": "{}",
         "name": "bright_ti5",
         "type": "\"string\""
        },
        {
         "metadata": "{}",
         "name": "frp",
         "type": "\"string\""
        },
        {
         "metadata": "{}",
         "name": "daynight",
         "type": "\"string\""
        }
       ],
       "type": "table"
      }
     },
     "output_type": "display_data"
    },
    {
     "output_type": "execute_result",
     "data": {
      "text/plain": [
       "0"
      ]
     },
     "execution_count": 1,
     "metadata": {},
     "output_type": "execute_result"
    }
   ],
   "source": [
    "import requests\n",
    "from io import BytesIO\n",
    "import datetime\n",
    "\n",
    "time = datetime.datetime.now().strftime('%Y-%m-%d-%H-%M-%S')\n",
    "map_key = dbutils.secrets.get(scope=\"poc5\", key=\"map_key\")\n",
    "\n",
    "endpoint = \"https://firms.modaps.eosdis.nasa.gov/api/country/csv/\" + map_key + \"/VIIRS_SNPP_NRT/POL/1\"\n",
    "# for initial batch\n",
    "#endpoint=\"https://firms.modaps.eosdis.nasa.gov/api/country/csv/-- key --\"/VIIRS_SNPP_NRT/POL/10/2024-02-20\"\n",
    "#loads data from today-1 at the end\n",
    "landing = \"dbfs:/user/POC5/ingest/fires-poland-\" + time + \".csv\"\n",
    "\n",
    "response = requests.get(endpoint)\n",
    "response.raise_for_status()\n",
    "\n",
    "dbutils.fs.put(landing, response.text)\n",
    "#binary_content = BytesIO(response.content)\n",
    "daily_load = (spark.read\n",
    "      .option(\"header\", True)\n",
    "      .option(\"inferSchema\", True)\n",
    "      .csv(landing)\n",
    "      )\n",
    "daily_load.createOrReplaceTempView(\"daily_load\")\n",
    "display(daily_load)\n",
    "#daily_load.printSchema()\n",
    "spark.sql(\"select * from daily_load \").count()\n",
    "\n",
    "\n",
    "\n"
   ]
  },
  {
   "cell_type": "code",
   "execution_count": 0,
   "metadata": {
    "application/vnd.databricks.v1+cell": {
     "cellMetadata": {
      "byteLimit": 2048000,
      "rowLimit": 10000
     },
     "inputWidgets": {},
     "nuid": "1181e9a2-8f07-48c7-8f3d-570568a608dd",
     "showTitle": false,
     "title": ""
    }
   },
   "outputs": [],
   "source": [
    "from pyspark.sql.types import StructType, StructField, StringType, DoubleType, DateType, IntegerType\n",
    "\n",
    "\n",
    "\n",
    "#to upsert df, its best to use change data feed, with internal databricks table\n",
    "schema = StructType([\n",
    "    StructField(\"country_id\", StringType(), nullable=True),\n",
    "    StructField(\"latitude\", DoubleType(), nullable=True),\n",
    "    StructField(\"longitude\", DoubleType(), nullable=True),\n",
    "    StructField(\"bright_ti4\", DoubleType(), nullable=True),\n",
    "    StructField(\"scan\", DoubleType(), nullable=True),\n",
    "    StructField(\"track\", DoubleType(), nullable=True),\n",
    "    StructField(\"acq_date\", DateType(), nullable=True),\n",
    "    StructField(\"acq_time\", IntegerType(), nullable=True),\n",
    "    StructField(\"satellite\", StringType(), nullable=True),\n",
    "    StructField(\"instrument\", StringType(), nullable=True),\n",
    "    StructField(\"confidence\", StringType(), nullable=True),\n",
    "    StructField(\"version\", StringType(), nullable=True),\n",
    "    StructField(\"bright_ti5\", DoubleType(), nullable=True),\n",
    "    StructField(\"frp\", DoubleType(), nullable=True),\n",
    "    StructField(\"daynight\", StringType(), nullable=True)\n",
    "])\n",
    "# (daily_load.write\n",
    "#     .format(\"delta\")\n",
    "#     .mode(\"append\")\n",
    "#     .saveAsTable(\"fires\",schema=schema, partitionBy=[\"acq_date\",\"acq_time\"])\n",
    "#     )\n",
    "     #format=None, mode=None, partitionBy=None\n",
    "# %sql\n",
    "# --delete  from fires"
   ]
  },
  {
   "cell_type": "code",
   "execution_count": 0,
   "metadata": {
    "application/vnd.databricks.v1+cell": {
     "cellMetadata": {
      "byteLimit": 2048000,
      "rowLimit": 10000
     },
     "inputWidgets": {},
     "nuid": "d655404e-871f-48bd-9904-eb5b0ac47113",
     "showTitle": false,
     "title": ""
    }
   },
   "outputs": [],
   "source": [
    "# hive_metastore.default.fires\n",
    "# x= dbutils.fs.ls(\"/user/hive/warehouse/fires/acq_date=2024-03-08/acq_time=130\")\n",
    "# display(x)\n"
   ]
  },
  {
   "cell_type": "code",
   "execution_count": 0,
   "metadata": {
    "application/vnd.databricks.v1+cell": {
     "cellMetadata": {
      "byteLimit": 2048000,
      "implicitDf": true,
      "rowLimit": 10000
     },
     "inputWidgets": {},
     "nuid": "25c7ea44-3791-4e0a-8a8c-b8c91ed6d641",
     "showTitle": false,
     "title": ""
    }
   },
   "outputs": [
    {
     "output_type": "display_data",
     "data": {
      "text/html": [
       "<style scoped>\n",
       "  .table-result-container {\n",
       "    max-height: 300px;\n",
       "    overflow: auto;\n",
       "  }\n",
       "  table, th, td {\n",
       "    border: 1px solid black;\n",
       "    border-collapse: collapse;\n",
       "  }\n",
       "  th, td {\n",
       "    padding: 5px;\n",
       "  }\n",
       "  th {\n",
       "    text-align: left;\n",
       "  }\n",
       "</style><div class='table-result-container'><table class='table-result'><thead style='background-color: white'><tr><th>country_id</th><th>latitude</th><th>longitude</th><th>bright_ti4</th><th>scan</th><th>track</th><th>acq_date</th><th>acq_time</th><th>satellite</th><th>instrument</th><th>confidence</th><th>version</th><th>bright_ti5</th><th>frp</th><th>daynight</th></tr></thead><tbody></tbody></table></div>"
      ]
     },
     "metadata": {
      "application/vnd.databricks.v1+output": {
       "addedWidgets": {},
       "aggData": [],
       "aggError": "",
       "aggOverflow": false,
       "aggSchema": [],
       "aggSeriesLimitReached": false,
       "aggType": "",
       "arguments": {},
       "columnCustomDisplayInfos": {},
       "data": [],
       "datasetInfos": [],
       "dbfsResultPath": null,
       "isJsonSchema": true,
       "metadata": {
        "dataframeName": "_sqldf",
        "executionCount": 3
       },
       "overflow": false,
       "plotOptions": {
        "customPlotOptions": {},
        "displayType": "table",
        "pivotAggregation": null,
        "pivotColumns": null,
        "xColumns": null,
        "yColumns": null
       },
       "removedWidgets": [],
       "schema": [
        {
         "metadata": "{}",
         "name": "country_id",
         "type": "\"string\""
        },
        {
         "metadata": "{}",
         "name": "latitude",
         "type": "\"string\""
        },
        {
         "metadata": "{}",
         "name": "longitude",
         "type": "\"string\""
        },
        {
         "metadata": "{}",
         "name": "bright_ti4",
         "type": "\"string\""
        },
        {
         "metadata": "{}",
         "name": "scan",
         "type": "\"string\""
        },
        {
         "metadata": "{}",
         "name": "track",
         "type": "\"string\""
        },
        {
         "metadata": "{}",
         "name": "acq_date",
         "type": "\"string\""
        },
        {
         "metadata": "{}",
         "name": "acq_time",
         "type": "\"string\""
        },
        {
         "metadata": "{}",
         "name": "satellite",
         "type": "\"string\""
        },
        {
         "metadata": "{}",
         "name": "instrument",
         "type": "\"string\""
        },
        {
         "metadata": "{}",
         "name": "confidence",
         "type": "\"string\""
        },
        {
         "metadata": "{}",
         "name": "version",
         "type": "\"string\""
        },
        {
         "metadata": "{}",
         "name": "bright_ti5",
         "type": "\"string\""
        },
        {
         "metadata": "{}",
         "name": "frp",
         "type": "\"string\""
        },
        {
         "metadata": "{}",
         "name": "daynight",
         "type": "\"string\""
        }
       ],
       "type": "table"
      }
     },
     "output_type": "display_data"
    }
   ],
   "source": [
    "%sql\n",
    "select * from daily_load\n",
    "--drop table fires\n",
    "--delete  from fires"
   ]
  },
  {
   "cell_type": "code",
   "execution_count": 0,
   "metadata": {
    "application/vnd.databricks.v1+cell": {
     "cellMetadata": {
      "byteLimit": 2048000,
      "implicitDf": true,
      "rowLimit": 10000
     },
     "inputWidgets": {},
     "nuid": "49e0eb3c-1390-4eec-992b-fc46edc6fab2",
     "showTitle": false,
     "title": ""
    }
   },
   "outputs": [
    {
     "output_type": "display_data",
     "data": {
      "text/html": [
       "<style scoped>\n",
       "  .table-result-container {\n",
       "    max-height: 300px;\n",
       "    overflow: auto;\n",
       "  }\n",
       "  table, th, td {\n",
       "    border: 1px solid black;\n",
       "    border-collapse: collapse;\n",
       "  }\n",
       "  th, td {\n",
       "    padding: 5px;\n",
       "  }\n",
       "  th {\n",
       "    text-align: left;\n",
       "  }\n",
       "</style><div class='table-result-container'><table class='table-result'><thead style='background-color: white'><tr><th>num_affected_rows</th><th>num_updated_rows</th><th>num_deleted_rows</th><th>num_inserted_rows</th></tr></thead><tbody><tr><td>13</td><td>0</td><td>0</td><td>13</td></tr></tbody></table></div>"
      ]
     },
     "metadata": {
      "application/vnd.databricks.v1+output": {
       "addedWidgets": {},
       "aggData": [],
       "aggError": "",
       "aggOverflow": false,
       "aggSchema": [],
       "aggSeriesLimitReached": false,
       "aggType": "",
       "arguments": {},
       "columnCustomDisplayInfos": {},
       "data": [
        [
         13,
         0,
         0,
         13
        ]
       ],
       "datasetInfos": [],
       "dbfsResultPath": null,
       "isJsonSchema": true,
       "metadata": {
        "dataframeName": "_sqldf",
        "executionCount": 204
       },
       "overflow": false,
       "plotOptions": {
        "customPlotOptions": {},
        "displayType": "table",
        "pivotAggregation": null,
        "pivotColumns": null,
        "xColumns": null,
        "yColumns": null
       },
       "removedWidgets": [],
       "schema": [
        {
         "metadata": "{}",
         "name": "num_affected_rows",
         "type": "\"long\""
        },
        {
         "metadata": "{}",
         "name": "num_updated_rows",
         "type": "\"long\""
        },
        {
         "metadata": "{}",
         "name": "num_deleted_rows",
         "type": "\"long\""
        },
        {
         "metadata": "{}",
         "name": "num_inserted_rows",
         "type": "\"long\""
        }
       ],
       "type": "table"
      }
     },
     "output_type": "display_data"
    }
   ],
   "source": [
    "%sql\n",
    "MERGE INTO fires AS target\n",
    "USING daily_load AS source\n",
    "ON target.latitude = source.latitude AND target.longitude = source.longitude\n",
    "AND target.acq_date = source.acq_date\n",
    "AND target.acq_time = source.acq_time\n",
    "AND target.bright_ti4 = source.bright_ti4\n",
    "WHEN NOT MATCHED THEN\n",
    "  INSERT (country_id, latitude, longitude, bright_ti4, scan, track, acq_date, acq_time, satellite, instrument, confidence, version, bright_ti5, frp, daynight)\n",
    "  VALUES (source.country_id, source.latitude, source.longitude, source.bright_ti4, source.scan, source.track, source.acq_date, source.acq_time, source.satellite, source.instrument, source.confidence, source.version, source.bright_ti5, source.frp, source.daynight)"
   ]
  },
  {
   "cell_type": "code",
   "execution_count": 0,
   "metadata": {
    "application/vnd.databricks.v1+cell": {
     "cellMetadata": {
      "byteLimit": 2048000,
      "implicitDf": true,
      "rowLimit": 10000
     },
     "inputWidgets": {},
     "nuid": "c35f8bb1-f84d-40ba-a480-d53c4370afa6",
     "showTitle": false,
     "title": ""
    }
   },
   "outputs": [],
   "source": [
    "%sql\n",
    "--select * from fires"
   ]
  },
  {
   "cell_type": "code",
   "execution_count": 0,
   "metadata": {
    "application/vnd.databricks.v1+cell": {
     "cellMetadata": {
      "byteLimit": 2048000,
      "rowLimit": 10000
     },
     "inputWidgets": {},
     "nuid": "8f328b7e-76b1-4696-abe7-f750d76463ad",
     "showTitle": false,
     "title": ""
    }
   },
   "outputs": [],
   "source": [
    "fires = spark.table(\"fires\")"
   ]
  },
  {
   "cell_type": "code",
   "execution_count": 0,
   "metadata": {
    "application/vnd.databricks.v1+cell": {
     "cellMetadata": {
      "byteLimit": 2048000,
      "rowLimit": 10000
     },
     "inputWidgets": {},
     "nuid": "eea3783a-f082-496a-a109-67ca46b62b54",
     "showTitle": false,
     "title": ""
    }
   },
   "outputs": [
    {
     "output_type": "display_data",
     "data": {
      "text/html": [
       "<style scoped>\n",
       "  .table-result-container {\n",
       "    max-height: 300px;\n",
       "    overflow: auto;\n",
       "  }\n",
       "  table, th, td {\n",
       "    border: 1px solid black;\n",
       "    border-collapse: collapse;\n",
       "  }\n",
       "  th, td {\n",
       "    padding: 5px;\n",
       "  }\n",
       "  th {\n",
       "    text-align: left;\n",
       "  }\n",
       "</style><div class='table-result-container'><table class='table-result'><thead style='background-color: white'><tr><th>country_id</th><th>latitude</th><th>longitude</th><th>bright_ti4</th><th>scan</th><th>track</th><th>acq_date</th><th>acq_time</th><th>satellite</th><th>instrument</th><th>confidence</th><th>version</th><th>bright_ti5</th><th>frp</th><th>daynight</th></tr></thead><tbody><tr><td>POL</td><td>50.03705</td><td>18.48552</td><td>299.54</td><td>0.45</td><td>0.47</td><td>2024-03-08</td><td>132</td><td>N</td><td>VIIRS</td><td>n</td><td>2.0NRT</td><td>272.51</td><td>0.71</td><td>N</td></tr><tr><td>POL</td><td>50.33119</td><td>19.28671</td><td>318.43</td><td>0.47</td><td>0.48</td><td>2024-03-08</td><td>132</td><td>N</td><td>VIIRS</td><td>n</td><td>2.0NRT</td><td>270.93</td><td>2.76</td><td>N</td></tr><tr><td>POL</td><td>50.33535</td><td>19.28925</td><td>311.88</td><td>0.47</td><td>0.48</td><td>2024-03-08</td><td>132</td><td>N</td><td>VIIRS</td><td>n</td><td>2.0NRT</td><td>271.63</td><td>1.75</td><td>N</td></tr><tr><td>POL</td><td>50.33694</td><td>19.28292</td><td>296.84</td><td>0.47</td><td>0.48</td><td>2024-03-08</td><td>132</td><td>N</td><td>VIIRS</td><td>n</td><td>2.0NRT</td><td>273.17</td><td>1.69</td><td>N</td></tr><tr><td>POL</td><td>50.34246</td><td>19.33705</td><td>299.36</td><td>0.47</td><td>0.48</td><td>2024-03-08</td><td>132</td><td>N</td><td>VIIRS</td><td>n</td><td>2.0NRT</td><td>274.49</td><td>1.27</td><td>N</td></tr><tr><td>POL</td><td>50.34273</td><td>18.86546</td><td>298.46</td><td>0.45</td><td>0.47</td><td>2024-03-08</td><td>132</td><td>N</td><td>VIIRS</td><td>n</td><td>2.0NRT</td><td>269.97</td><td>1.43</td><td>N</td></tr><tr><td>POL</td><td>50.53555</td><td>17.97452</td><td>296.87</td><td>0.41</td><td>0.45</td><td>2024-03-08</td><td>132</td><td>N</td><td>VIIRS</td><td>n</td><td>2.0NRT</td><td>272.33</td><td>0.93</td><td>N</td></tr><tr><td>POL</td><td>50.93123</td><td>21.67787</td><td>300.79</td><td>0.56</td><td>0.52</td><td>2024-03-08</td><td>130</td><td>N</td><td>VIIRS</td><td>n</td><td>2.0NRT</td><td>270.06</td><td>1.32</td><td>N</td></tr><tr><td>POL</td><td>51.68808</td><td>15.97798</td><td>334.1</td><td>0.5</td><td>0.41</td><td>2024-03-08</td><td>130</td><td>N</td><td>VIIRS</td><td>n</td><td>2.0NRT</td><td>274.27</td><td>10.74</td><td>N</td></tr><tr><td>POL</td><td>54.4249</td><td>16.85785</td><td>316.68</td><td>0.47</td><td>0.4</td><td>2024-03-08</td><td>130</td><td>N</td><td>VIIRS</td><td>n</td><td>2.0NRT</td><td>269.74</td><td>2.05</td><td>N</td></tr><tr><td>POL</td><td>50.33121</td><td>19.28758</td><td>327.19</td><td>0.39</td><td>0.36</td><td>2024-03-08</td><td>1117</td><td>N</td><td>VIIRS</td><td>n</td><td>2.0NRT</td><td>284.91</td><td>2.76</td><td>D</td></tr><tr><td>POL</td><td>50.42211</td><td>18.14306</td><td>328.3</td><td>0.41</td><td>0.37</td><td>2024-03-08</td><td>1117</td><td>N</td><td>VIIRS</td><td>n</td><td>2.0NRT</td><td>284.0</td><td>3.87</td><td>D</td></tr><tr><td>POL</td><td>51.68757</td><td>15.97785</td><td>328.07</td><td>0.44</td><td>0.38</td><td>2024-03-08</td><td>1119</td><td>N</td><td>VIIRS</td><td>n</td><td>2.0NRT</td><td>285.71</td><td>5.57</td><td>D</td></tr></tbody></table></div>"
      ]
     },
     "metadata": {
      "application/vnd.databricks.v1+output": {
       "addedWidgets": {},
       "aggData": [],
       "aggError": "",
       "aggOverflow": false,
       "aggSchema": [],
       "aggSeriesLimitReached": false,
       "aggType": "",
       "arguments": {},
       "columnCustomDisplayInfos": {},
       "data": [
        [
         "POL",
         50.03705,
         18.48552,
         299.54,
         0.45,
         0.47,
         "2024-03-08",
         132,
         "N",
         "VIIRS",
         "n",
         "2.0NRT",
         272.51,
         0.71,
         "N"
        ],
        [
         "POL",
         50.33119,
         19.28671,
         318.43,
         0.47,
         0.48,
         "2024-03-08",
         132,
         "N",
         "VIIRS",
         "n",
         "2.0NRT",
         270.93,
         2.76,
         "N"
        ],
        [
         "POL",
         50.33535,
         19.28925,
         311.88,
         0.47,
         0.48,
         "2024-03-08",
         132,
         "N",
         "VIIRS",
         "n",
         "2.0NRT",
         271.63,
         1.75,
         "N"
        ],
        [
         "POL",
         50.33694,
         19.28292,
         296.84,
         0.47,
         0.48,
         "2024-03-08",
         132,
         "N",
         "VIIRS",
         "n",
         "2.0NRT",
         273.17,
         1.69,
         "N"
        ],
        [
         "POL",
         50.34246,
         19.33705,
         299.36,
         0.47,
         0.48,
         "2024-03-08",
         132,
         "N",
         "VIIRS",
         "n",
         "2.0NRT",
         274.49,
         1.27,
         "N"
        ],
        [
         "POL",
         50.34273,
         18.86546,
         298.46,
         0.45,
         0.47,
         "2024-03-08",
         132,
         "N",
         "VIIRS",
         "n",
         "2.0NRT",
         269.97,
         1.43,
         "N"
        ],
        [
         "POL",
         50.53555,
         17.97452,
         296.87,
         0.41,
         0.45,
         "2024-03-08",
         132,
         "N",
         "VIIRS",
         "n",
         "2.0NRT",
         272.33,
         0.93,
         "N"
        ],
        [
         "POL",
         50.93123,
         21.67787,
         300.79,
         0.56,
         0.52,
         "2024-03-08",
         130,
         "N",
         "VIIRS",
         "n",
         "2.0NRT",
         270.06,
         1.32,
         "N"
        ],
        [
         "POL",
         51.68808,
         15.97798,
         334.1,
         0.5,
         0.41,
         "2024-03-08",
         130,
         "N",
         "VIIRS",
         "n",
         "2.0NRT",
         274.27,
         10.74,
         "N"
        ],
        [
         "POL",
         54.4249,
         16.85785,
         316.68,
         0.47,
         0.4,
         "2024-03-08",
         130,
         "N",
         "VIIRS",
         "n",
         "2.0NRT",
         269.74,
         2.05,
         "N"
        ],
        [
         "POL",
         50.33121,
         19.28758,
         327.19,
         0.39,
         0.36,
         "2024-03-08",
         1117,
         "N",
         "VIIRS",
         "n",
         "2.0NRT",
         284.91,
         2.76,
         "D"
        ],
        [
         "POL",
         50.42211,
         18.14306,
         328.3,
         0.41,
         0.37,
         "2024-03-08",
         1117,
         "N",
         "VIIRS",
         "n",
         "2.0NRT",
         284.0,
         3.87,
         "D"
        ],
        [
         "POL",
         51.68757,
         15.97785,
         328.07,
         0.44,
         0.38,
         "2024-03-08",
         1119,
         "N",
         "VIIRS",
         "n",
         "2.0NRT",
         285.71,
         5.57,
         "D"
        ]
       ],
       "datasetInfos": [],
       "dbfsResultPath": null,
       "isJsonSchema": true,
       "metadata": {},
       "overflow": false,
       "plotOptions": {
        "customPlotOptions": {},
        "displayType": "table",
        "pivotAggregation": null,
        "pivotColumns": null,
        "xColumns": null,
        "yColumns": null
       },
       "removedWidgets": [],
       "schema": [
        {
         "metadata": "{}",
         "name": "country_id",
         "type": "\"string\""
        },
        {
         "metadata": "{}",
         "name": "latitude",
         "type": "\"double\""
        },
        {
         "metadata": "{}",
         "name": "longitude",
         "type": "\"double\""
        },
        {
         "metadata": "{}",
         "name": "bright_ti4",
         "type": "\"double\""
        },
        {
         "metadata": "{}",
         "name": "scan",
         "type": "\"double\""
        },
        {
         "metadata": "{}",
         "name": "track",
         "type": "\"double\""
        },
        {
         "metadata": "{\"__detected_date_formats\":\"yyyy-M-d\"}",
         "name": "acq_date",
         "type": "\"date\""
        },
        {
         "metadata": "{}",
         "name": "acq_time",
         "type": "\"integer\""
        },
        {
         "metadata": "{}",
         "name": "satellite",
         "type": "\"string\""
        },
        {
         "metadata": "{}",
         "name": "instrument",
         "type": "\"string\""
        },
        {
         "metadata": "{}",
         "name": "confidence",
         "type": "\"string\""
        },
        {
         "metadata": "{}",
         "name": "version",
         "type": "\"string\""
        },
        {
         "metadata": "{}",
         "name": "bright_ti5",
         "type": "\"double\""
        },
        {
         "metadata": "{}",
         "name": "frp",
         "type": "\"double\""
        },
        {
         "metadata": "{}",
         "name": "daynight",
         "type": "\"string\""
        }
       ],
       "type": "table"
      }
     },
     "output_type": "display_data"
    },
    {
     "output_type": "display_data",
     "data": {
      "text/plain": [
       "Databricks visualization. Run in Databricks to view."
      ]
     },
     "metadata": {
      "application/vnd.databricks.v1.subcommand+json": {
       "baseErrorDetails": null,
       "bindings": {},
       "collapsed": false,
       "command": "from pyspark.sql.functions import current_date\n\ntoday_fires = fires.filter(fires.acq_date == current_date())\ndisplay(today_fires)",
       "commandTitle": "Visualization 1",
       "commandType": "auto",
       "commandVersion": 0,
       "commentThread": [],
       "commentsVisible": false,
       "contentSha256Hex": null,
       "customPlotOptions": {
        "redashChart": [
         {
          "key": "type",
          "value": "MAP"
         },
         {
          "key": "options",
          "value": {
           "backgroundColor": "#356AFF",
           "borderColor": "#356AFF",
           "bounds": null,
           "clusterMarkers": false,
           "customizeMarkers": false,
           "foregroundColor": "#ffffff",
           "groups": {},
           "iconFont": "circle",
           "iconShape": "marker",
           "latColName": "latitude",
           "lonColName": "longitude",
           "mapTileUrl": "//{s}.tile.openstreetmap.org/{z}/{x}/{y}.png",
           "popup": {
            "enabled": true,
            "template": ""
           },
           "tooltip": {
            "enabled": false,
            "template": ""
           }
          }
         }
        ]
       },
       "datasetPreviewNameToCmdIdMap": {},
       "diffDeletes": [],
       "diffInserts": [],
       "displayType": "redashChart",
       "error": null,
       "errorDetails": null,
       "errorSummary": null,
       "errorTraceType": null,
       "finishTime": 0,
       "globalVars": {},
       "guid": "",
       "height": "auto",
       "hideCommandCode": false,
       "hideCommandResult": false,
       "iPythonMetadata": null,
       "inputWidgets": {},
       "isLockedInExamMode": false,
       "latestUser": "a user",
       "latestUserId": null,
       "listResultMetadata": null,
       "metadata": {},
       "nuid": "dc546736-0061-4fa8-8f39-208060ac42ae",
       "origId": 0,
       "parentHierarchy": [],
       "pivotAggregation": null,
       "pivotColumns": null,
       "position": 9.07421875,
       "resultDbfsErrorMessage": null,
       "resultDbfsStatus": "INLINED_IN_TREE",
       "results": null,
       "showCommandTitle": false,
       "startTime": 0,
       "state": "input",
       "streamStates": {},
       "subcommandOptions": {},
       "submitTime": 0,
       "subtype": "tableResultSubCmd.visualization",
       "tableResultIndex": 0,
       "tableResultSettingsMap": null,
       "useConsistentColors": false,
       "version": "CommandV1",
       "width": "auto",
       "workflows": [],
       "xColumns": null,
       "yColumns": null
      }
     },
     "output_type": "display_data"
    }
   ],
   "source": [
    "from pyspark.sql.functions import current_date\n",
    "\n",
    "today_fires = fires.filter(fires.acq_date == current_date())\n",
    "display(today_fires)"
   ]
  },
  {
   "cell_type": "code",
   "execution_count": 0,
   "metadata": {
    "application/vnd.databricks.v1+cell": {
     "cellMetadata": {
      "byteLimit": 2048000,
      "rowLimit": 10000
     },
     "inputWidgets": {},
     "nuid": "a13aa528-5af4-4980-afb9-cd3c54bb2092",
     "showTitle": false,
     "title": ""
    }
   },
   "outputs": [],
   "source": [
    "(fires.write\n",
    " .format(\"jdbc\")\n",
    " .option(\"url\", dbutils.secrets.get(scope=\"poc5\", key=\"jdbc_url\"))\n",
    " .option(\"dbtable\", \"poc5_table\")\n",
    " .option(\"user\", \"woj_admi\")\n",
    " .option(\"password\", dbutils.secrets.get(scope=\"poc5\", key=\"jdbc_pass\"))\n",
    " .mode(\"append\")\n",
    " .save()\n",
    ")"
   ]
  },
  {
   "cell_type": "code",
   "execution_count": 0,
   "metadata": {
    "application/vnd.databricks.v1+cell": {
     "cellMetadata": {
      "byteLimit": 2048000,
      "implicitDf": true,
      "rowLimit": 10000
     },
     "inputWidgets": {},
     "nuid": "6af6d04c-5443-4291-a282-a7679033d541",
     "showTitle": false,
     "title": ""
    }
   },
   "outputs": [],
   "source": [
    "%sql\n",
    "--delete   from fires\n",
    "--drop table fires"
   ]
  },
  {
   "cell_type": "code",
   "execution_count": 0,
   "metadata": {
    "application/vnd.databricks.v1+cell": {
     "cellMetadata": {
      "byteLimit": 2048000,
      "rowLimit": 10000
     },
     "inputWidgets": {},
     "nuid": "60554413-23d3-49e9-8700-61cd9a2dbf2c",
     "showTitle": false,
     "title": ""
    }
   },
   "outputs": [],
   "source": [
    "#adls setup\n",
    "save_to_path = \"fires-poland-\" + time\n",
    "container = \"poc5\"\n",
    "storage_account = \"poc5wojtek\"\n",
    "storage_account_key=dbutils.secrets.get(scope=\"poc5\", key=\"storage_account_key\")\n",
    "spark.conf.set(\n",
    "    \"fs.azure.account.key.\" + storage_account + \".dfs.core.windows.net\",\n",
    "    storage_account_key\n",
    ")\n"
   ]
  },
  {
   "cell_type": "code",
   "execution_count": 0,
   "metadata": {
    "application/vnd.databricks.v1+cell": {
     "cellMetadata": {
      "byteLimit": 2048000,
      "rowLimit": 10000
     },
     "inputWidgets": {},
     "nuid": "46052f6a-356a-43a0-b062-f2e0f5be0e0b",
     "showTitle": false,
     "title": ""
    }
   },
   "outputs": [
    {
     "output_type": "display_data",
     "data": {
      "text/html": [
       "<style scoped>\n",
       "  .table-result-container {\n",
       "    max-height: 300px;\n",
       "    overflow: auto;\n",
       "  }\n",
       "  table, th, td {\n",
       "    border: 1px solid black;\n",
       "    border-collapse: collapse;\n",
       "  }\n",
       "  th, td {\n",
       "    padding: 5px;\n",
       "  }\n",
       "  th {\n",
       "    text-align: left;\n",
       "  }\n",
       "</style><div class='table-result-container'><table class='table-result'><thead style='background-color: white'><tr><th>country_id</th><th>latitude</th><th>longitude</th><th>bright_ti4</th><th>scan</th><th>track</th><th>acq_date</th><th>acq_time</th><th>satellite</th><th>instrument</th><th>confidence</th><th>version</th><th>bright_ti5</th><th>frp</th><th>daynight</th></tr></thead><tbody><tr><td>POL</td><td>50.93123</td><td>21.67787</td><td>300.79</td><td>0.56</td><td>0.52</td><td>2024-03-08</td><td>130</td><td>N</td><td>VIIRS</td><td>n</td><td>2.0NRT</td><td>270.06</td><td>1.32</td><td>N</td></tr><tr><td>POL</td><td>51.68808</td><td>15.97798</td><td>334.1</td><td>0.5</td><td>0.41</td><td>2024-03-08</td><td>130</td><td>N</td><td>VIIRS</td><td>n</td><td>2.0NRT</td><td>274.27</td><td>10.74</td><td>N</td></tr><tr><td>POL</td><td>54.4249</td><td>16.85785</td><td>316.68</td><td>0.47</td><td>0.4</td><td>2024-03-08</td><td>130</td><td>N</td><td>VIIRS</td><td>n</td><td>2.0NRT</td><td>269.74</td><td>2.05</td><td>N</td></tr><tr><td>POL</td><td>50.03705</td><td>18.48552</td><td>299.54</td><td>0.45</td><td>0.47</td><td>2024-03-08</td><td>132</td><td>N</td><td>VIIRS</td><td>n</td><td>2.0NRT</td><td>272.51</td><td>0.71</td><td>N</td></tr><tr><td>POL</td><td>50.33119</td><td>19.28671</td><td>318.43</td><td>0.47</td><td>0.48</td><td>2024-03-08</td><td>132</td><td>N</td><td>VIIRS</td><td>n</td><td>2.0NRT</td><td>270.93</td><td>2.76</td><td>N</td></tr><tr><td>POL</td><td>50.33535</td><td>19.28925</td><td>311.88</td><td>0.47</td><td>0.48</td><td>2024-03-08</td><td>132</td><td>N</td><td>VIIRS</td><td>n</td><td>2.0NRT</td><td>271.63</td><td>1.75</td><td>N</td></tr><tr><td>POL</td><td>50.33694</td><td>19.28292</td><td>296.84</td><td>0.47</td><td>0.48</td><td>2024-03-08</td><td>132</td><td>N</td><td>VIIRS</td><td>n</td><td>2.0NRT</td><td>273.17</td><td>1.69</td><td>N</td></tr><tr><td>POL</td><td>50.34246</td><td>19.33705</td><td>299.36</td><td>0.47</td><td>0.48</td><td>2024-03-08</td><td>132</td><td>N</td><td>VIIRS</td><td>n</td><td>2.0NRT</td><td>274.49</td><td>1.27</td><td>N</td></tr><tr><td>POL</td><td>50.34273</td><td>18.86546</td><td>298.46</td><td>0.45</td><td>0.47</td><td>2024-03-08</td><td>132</td><td>N</td><td>VIIRS</td><td>n</td><td>2.0NRT</td><td>269.97</td><td>1.43</td><td>N</td></tr><tr><td>POL</td><td>50.53555</td><td>17.97452</td><td>296.87</td><td>0.41</td><td>0.45</td><td>2024-03-08</td><td>132</td><td>N</td><td>VIIRS</td><td>n</td><td>2.0NRT</td><td>272.33</td><td>0.93</td><td>N</td></tr><tr><td>POL</td><td>50.33121</td><td>19.28758</td><td>327.19</td><td>0.39</td><td>0.36</td><td>2024-03-08</td><td>1117</td><td>N</td><td>VIIRS</td><td>n</td><td>2.0NRT</td><td>284.91</td><td>2.76</td><td>D</td></tr><tr><td>POL</td><td>50.42211</td><td>18.14306</td><td>328.3</td><td>0.41</td><td>0.37</td><td>2024-03-08</td><td>1117</td><td>N</td><td>VIIRS</td><td>n</td><td>2.0NRT</td><td>284.0</td><td>3.87</td><td>D</td></tr><tr><td>POL</td><td>51.68757</td><td>15.97785</td><td>328.07</td><td>0.44</td><td>0.38</td><td>2024-03-08</td><td>1119</td><td>N</td><td>VIIRS</td><td>n</td><td>2.0NRT</td><td>285.71</td><td>5.57</td><td>D</td></tr></tbody></table></div>"
      ]
     },
     "metadata": {
      "application/vnd.databricks.v1+output": {
       "addedWidgets": {},
       "aggData": [],
       "aggError": "",
       "aggOverflow": false,
       "aggSchema": [],
       "aggSeriesLimitReached": false,
       "aggType": "",
       "arguments": {},
       "columnCustomDisplayInfos": {},
       "data": [
        [
         "POL",
         50.93123,
         21.67787,
         300.79,
         0.56,
         0.52,
         "2024-03-08",
         130,
         "N",
         "VIIRS",
         "n",
         "2.0NRT",
         270.06,
         1.32,
         "N"
        ],
        [
         "POL",
         51.68808,
         15.97798,
         334.1,
         0.5,
         0.41,
         "2024-03-08",
         130,
         "N",
         "VIIRS",
         "n",
         "2.0NRT",
         274.27,
         10.74,
         "N"
        ],
        [
         "POL",
         54.4249,
         16.85785,
         316.68,
         0.47,
         0.4,
         "2024-03-08",
         130,
         "N",
         "VIIRS",
         "n",
         "2.0NRT",
         269.74,
         2.05,
         "N"
        ],
        [
         "POL",
         50.03705,
         18.48552,
         299.54,
         0.45,
         0.47,
         "2024-03-08",
         132,
         "N",
         "VIIRS",
         "n",
         "2.0NRT",
         272.51,
         0.71,
         "N"
        ],
        [
         "POL",
         50.33119,
         19.28671,
         318.43,
         0.47,
         0.48,
         "2024-03-08",
         132,
         "N",
         "VIIRS",
         "n",
         "2.0NRT",
         270.93,
         2.76,
         "N"
        ],
        [
         "POL",
         50.33535,
         19.28925,
         311.88,
         0.47,
         0.48,
         "2024-03-08",
         132,
         "N",
         "VIIRS",
         "n",
         "2.0NRT",
         271.63,
         1.75,
         "N"
        ],
        [
         "POL",
         50.33694,
         19.28292,
         296.84,
         0.47,
         0.48,
         "2024-03-08",
         132,
         "N",
         "VIIRS",
         "n",
         "2.0NRT",
         273.17,
         1.69,
         "N"
        ],
        [
         "POL",
         50.34246,
         19.33705,
         299.36,
         0.47,
         0.48,
         "2024-03-08",
         132,
         "N",
         "VIIRS",
         "n",
         "2.0NRT",
         274.49,
         1.27,
         "N"
        ],
        [
         "POL",
         50.34273,
         18.86546,
         298.46,
         0.45,
         0.47,
         "2024-03-08",
         132,
         "N",
         "VIIRS",
         "n",
         "2.0NRT",
         269.97,
         1.43,
         "N"
        ],
        [
         "POL",
         50.53555,
         17.97452,
         296.87,
         0.41,
         0.45,
         "2024-03-08",
         132,
         "N",
         "VIIRS",
         "n",
         "2.0NRT",
         272.33,
         0.93,
         "N"
        ],
        [
         "POL",
         50.33121,
         19.28758,
         327.19,
         0.39,
         0.36,
         "2024-03-08",
         1117,
         "N",
         "VIIRS",
         "n",
         "2.0NRT",
         284.91,
         2.76,
         "D"
        ],
        [
         "POL",
         50.42211,
         18.14306,
         328.3,
         0.41,
         0.37,
         "2024-03-08",
         1117,
         "N",
         "VIIRS",
         "n",
         "2.0NRT",
         284.0,
         3.87,
         "D"
        ],
        [
         "POL",
         51.68757,
         15.97785,
         328.07,
         0.44,
         0.38,
         "2024-03-08",
         1119,
         "N",
         "VIIRS",
         "n",
         "2.0NRT",
         285.71,
         5.57,
         "D"
        ]
       ],
       "datasetInfos": [],
       "dbfsResultPath": null,
       "isJsonSchema": true,
       "metadata": {},
       "overflow": false,
       "plotOptions": {
        "customPlotOptions": {},
        "displayType": "table",
        "pivotAggregation": null,
        "pivotColumns": null,
        "xColumns": null,
        "yColumns": null
       },
       "removedWidgets": [],
       "schema": [
        {
         "metadata": "{}",
         "name": "country_id",
         "type": "\"string\""
        },
        {
         "metadata": "{}",
         "name": "latitude",
         "type": "\"double\""
        },
        {
         "metadata": "{}",
         "name": "longitude",
         "type": "\"double\""
        },
        {
         "metadata": "{}",
         "name": "bright_ti4",
         "type": "\"double\""
        },
        {
         "metadata": "{}",
         "name": "scan",
         "type": "\"double\""
        },
        {
         "metadata": "{}",
         "name": "track",
         "type": "\"double\""
        },
        {
         "metadata": "{\"__detected_date_formats\":\"yyyy-M-d\"}",
         "name": "acq_date",
         "type": "\"date\""
        },
        {
         "metadata": "{}",
         "name": "acq_time",
         "type": "\"integer\""
        },
        {
         "metadata": "{}",
         "name": "satellite",
         "type": "\"string\""
        },
        {
         "metadata": "{}",
         "name": "instrument",
         "type": "\"string\""
        },
        {
         "metadata": "{}",
         "name": "confidence",
         "type": "\"string\""
        },
        {
         "metadata": "{}",
         "name": "version",
         "type": "\"string\""
        },
        {
         "metadata": "{}",
         "name": "bright_ti5",
         "type": "\"double\""
        },
        {
         "metadata": "{}",
         "name": "frp",
         "type": "\"double\""
        },
        {
         "metadata": "{}",
         "name": "daynight",
         "type": "\"string\""
        }
       ],
       "type": "table"
      }
     },
     "output_type": "display_data"
    }
   ],
   "source": [
    "#dump to adls\n",
    "(daily_load.write\n",
    "  .format(\"csv\")\n",
    "  .option(\"header\", True)\n",
    "  .save(\"abfss://\" + container + \"@\" + storage_account + \".dfs.core.windows.net/\" + save_to_path + \".csv\"))\n",
    "display(daily_load)"
   ]
  },
  {
   "cell_type": "code",
   "execution_count": 0,
   "metadata": {
    "application/vnd.databricks.v1+cell": {
     "cellMetadata": {},
     "inputWidgets": {},
     "nuid": "3ce41dac-c31a-4df8-a591-708683889dcd",
     "showTitle": false,
     "title": ""
    }
   },
   "outputs": [],
   "source": []
  },
  {
   "cell_type": "code",
   "execution_count": 0,
   "metadata": {
    "application/vnd.databricks.v1+cell": {
     "cellMetadata": {
      "byteLimit": 2048000,
      "rowLimit": 10000
     },
     "inputWidgets": {},
     "nuid": "069c4971-1fef-4531-a475-bd36db31724a",
     "showTitle": false,
     "title": ""
    }
   },
   "outputs": [],
   "source": [
    "#clear the storage container-- \n",
    "# dbutils.fs.rm(\"abfss://\" + container + \"@\" + storage_account + \".dfs.core.windows.net/\",True)"
   ]
  },
  {
   "cell_type": "code",
   "execution_count": 0,
   "metadata": {
    "application/vnd.databricks.v1+cell": {
     "cellMetadata": {},
     "inputWidgets": {},
     "nuid": "92a97d9b-4a53-4498-b131-d13c2165d7e2",
     "showTitle": false,
     "title": ""
    }
   },
   "outputs": [],
   "source": []
  }
 ],
 "metadata": {
  "application/vnd.databricks.v1+notebook": {
   "dashboards": [],
   "environmentMetadata": null,
   "language": "python",
   "notebookMetadata": {
    "mostRecentlyExecutedCommandWithImplicitDF": {
     "commandId": 914744121863981,
     "dataframes": [
      "_sqldf"
     ]
    },
    "pythonIndentUnit": 4
   },
   "notebookName": "POC_5_w_secrets 2024-03-06",
   "widgets": {}
  }
 },
 "nbformat": 4,
 "nbformat_minor": 0
}
